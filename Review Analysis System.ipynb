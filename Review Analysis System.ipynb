{
  "nbformat": 4,
  "nbformat_minor": 0,
  "metadata": {
    "colab": {
      "provenance": [],
      "toc_visible": true,
      "include_colab_link": true
    },
    "kernelspec": {
      "name": "python3",
      "display_name": "Python 3"
    },
    "language_info": {
      "name": "python"
    }
  },
  "cells": [
    {
      "cell_type": "markdown",
      "metadata": {
        "id": "view-in-github",
        "colab_type": "text"
      },
      "source": [
        "<a href=\"https://colab.research.google.com/github/Deekshakim07/Assignment-5-UCS654/blob/main/Review%20Analysis%20System.ipynb\" target=\"_parent\"><img src=\"https://colab.research.google.com/assets/colab-badge.svg\" alt=\"Open In Colab\"/></a>"
      ]
    },
    {
      "cell_type": "code",
      "source": [
        "import numpy as np\n",
        "import pandas as pd\n",
        "import matplotlib.pyplot as plt\n",
        "from sklearn import metrics\n",
        "from sklearn.metrics import accuracy_score\n",
        "from sklearn.metrics import precision_score\n",
        "from sklearn.metrics import recall_score\n",
        "from sklearn.metrics import confusion_matrix\n",
        "from sklearn.feature_extraction.text import TfidfVectorizer\n",
        "import seaborn as sns\n",
        "import re\n",
        "import nltk"
      ],
      "metadata": {
        "id": "TgOvQMmupwtB"
      },
      "execution_count": 1,
      "outputs": []
    },
    {
      "cell_type": "code",
      "source": [
        "nltk.download('stopwords')"
      ],
      "metadata": {
        "colab": {
          "base_uri": "https://localhost:8080/"
        },
        "id": "utXs6kBrp04S",
        "outputId": "34744554-cee7-4bc3-ec14-dd8e4d56e0bc"
      },
      "execution_count": 2,
      "outputs": [
        {
          "output_type": "stream",
          "name": "stderr",
          "text": [
            "[nltk_data] Downloading package stopwords to /root/nltk_data...\n",
            "[nltk_data]   Unzipping corpora/stopwords.zip.\n"
          ]
        },
        {
          "output_type": "execute_result",
          "data": {
            "text/plain": [
              "True"
            ]
          },
          "metadata": {},
          "execution_count": 2
        }
      ]
    },
    {
      "cell_type": "code",
      "source": [
        "from nltk.corpus import stopwords\n",
        "from nltk.stem.porter import PorterStemmer"
      ],
      "metadata": {
        "id": "R0YDyDJ_p3tq"
      },
      "execution_count": 3,
      "outputs": []
    },
    {
      "cell_type": "code",
      "source": [
        "ps = PorterStemmer()"
      ],
      "metadata": {
        "id": "-6mBaXS6p7rk"
      },
      "execution_count": 4,
      "outputs": []
    },
    {
      "cell_type": "code",
      "source": [
        "dataset=pd.read_csv('/content/IMDB Dataset.csv')"
      ],
      "metadata": {
        "id": "oMrbID5GxglD"
      },
      "execution_count": 5,
      "outputs": []
    },
    {
      "cell_type": "code",
      "source": [
        "\n",
        "all_stopwords = stopwords.words('english') #Converting all the words in english language format\n",
        "all_stopwords.remove('not')\n",
        "dataset.loc[dataset['sentiment'] == 'positive', 'sentiment',] = 1\n",
        "dataset.loc[dataset['sentiment'] == 'negative', 'sentiment',] = 0\n",
        "corpus=[]"
      ],
      "metadata": {
        "id": "LDR23ZRop_Cu"
      },
      "execution_count": 6,
      "outputs": []
    },
    {
      "cell_type": "code",
      "source": [
        "for i in range(0, 5000):\n",
        "  review = re.sub('[^a-zA-Z0-9\\s]', ' ', dataset['review'][i])\n",
        "  review = review.lower()\n",
        "  review = review.split()\n",
        "  review = [ps.stem(word) for word in review if not word in set(all_stopwords)]\n",
        "  review = ' '.join(review)\n",
        "  corpus.append(review)"
      ],
      "metadata": {
        "id": "1MHDiPvuqIud"
      },
      "execution_count": 7,
      "outputs": []
    },
    {
      "cell_type": "code",
      "source": [
        "from sklearn.feature_extraction.text import CountVectorizer, TfidfVectorizer\n",
        "\n",
        "# Assuming 'corpus' is already defined and contains the text data\n",
        "\n",
        "# Using CountVectorizer to transform the corpus\n",
        "cv = CountVectorizer(max_features=2000)\n",
        "X = cv.fit_transform(corpus).toarray()\n",
        "\n",
        "# Correct indexing to get the labels\n",
        "y = dataset.iloc[0:5000, -1].values\n",
        "\n",
        "# Using TfidfVectorizer to transform the corpus\n",
        "feature_extraction = TfidfVectorizer(min_df=1, stop_words='english', lowercase=True)\n",
        "X1 = feature_extraction.fit_transform(corpus).toarray()\n",
        "\n",
        "# Correct indexing to get the labels\n",
        "y1 = dataset.iloc[0:5000, -1].values"
      ],
      "metadata": {
        "id": "lBtShkHMqOCf"
      },
      "execution_count": 12,
      "outputs": []
    },
    {
      "cell_type": "code",
      "source": [
        "from sklearn.model_selection import train_test_split\n",
        "X_train, X_test, y_train, y_test = train_test_split(X, y, test_size = 0.20, random_state = 3)\n",
        "y_train = y_train.astype('int')\n",
        "y_test = y_test.astype('int')"
      ],
      "metadata": {
        "id": "unJgTGjdqO_c"
      },
      "execution_count": 13,
      "outputs": []
    },
    {
      "cell_type": "code",
      "source": [
        "from sklearn.model_selection import train_test_split\n",
        "x_train, x_test, Y_train, Y_test = train_test_split(X1, y1, test_size = 0.20, random_state = 3)\n",
        "Y_train = Y_train.astype('int')\n",
        "Y_test = Y_test.astype('int')"
      ],
      "metadata": {
        "id": "xHTlcsQzqQ5h"
      },
      "execution_count": 14,
      "outputs": []
    },
    {
      "cell_type": "code",
      "source": [
        "from sklearn.naive_bayes import GaussianNB\n",
        "classifier = GaussianNB()\n",
        "classifier.fit(X_train, y_train)\n",
        "y_pred = classifier.predict(X_test)\n",
        "cm1 = confusion_matrix(y_test, y_pred)\n",
        "print(cm1)\n",
        "accuracy= accuracy_score(y_test, y_pred)\n",
        "precision = precision_score(y_test, y_pred)\n",
        "recall= recall_score(y_test, y_pred)\n",
        "error_score = metrics.r2_score(y_test, y_pred)\n",
        "print('Accuracy on testing data : ', accuracy)\n",
        "print('Precision on testing data : ', precision)\n",
        "print('Recall on testing : ', recall)\n",
        "print(\"R squared Error is : \", error_score)\n",
        "ax = sns.heatmap(cm1, annot=True, cmap='RdYlGn')\n",
        "ax.set_title('Seaborn Confusion Matrix with labels\\n\\n');\n",
        "ax.set_xlabel('\\nPredicted Values')\n",
        "ax.set_ylabel('Actual Values ');"
      ],
      "metadata": {
        "colab": {
          "base_uri": "https://localhost:8080/",
          "height": 634
        },
        "id": "AjUwZMhgqSZn",
        "outputId": "c09dd28e-0dc8-4c3d-d604-1ae42854a52a"
      },
      "execution_count": 15,
      "outputs": [
        {
          "output_type": "stream",
          "name": "stdout",
          "text": [
            "[[407  86]\n",
            " [186 321]]\n",
            "Accuracy on testing data :  0.728\n",
            "Precision on testing data :  0.7886977886977887\n",
            "Recall on testing :  0.6331360946745562\n",
            "R squared Error is :  -0.08821328980480181\n"
          ]
        },
        {
          "output_type": "display_data",
          "data": {
            "text/plain": [
              "<Figure size 640x480 with 2 Axes>"
            ],
            "image/png": "[encoded data removed]"
          },
          "metadata": {}
        }
      ]
    },
    {
      "cell_type": "code",
      "source": [
        "ax.xaxis.set_ticklabels(['False','True'])\n",
        "ax.yaxis.set_ticklabels(['False','True'])"
      ],
      "metadata": {
        "colab": {
          "base_uri": "https://localhost:8080/"
        },
        "id": "FesaHbhOqZ3U",
        "outputId": "4d57e41b-6c1e-4185-b585-6322de465291"
      },
      "execution_count": 16,
      "outputs": [
        {
          "output_type": "execute_result",
          "data": {
            "text/plain": [
              "[Text(0, 0.5, 'False'), Text(0, 1.5, 'True')]"
            ]
          },
          "metadata": {},
          "execution_count": 16
        }
      ]
    },
    {
      "cell_type": "code",
      "source": [
        "## Display the visualization of the Confusion Matrix.\n",
        "plt.show()\n",
        "from sklearn.linear_model import LogisticRegression\n",
        "model = LogisticRegression()\n",
        "model.fit(x_train, Y_train)\n",
        "y_pred1 = model.predict(x_test)\n",
        "cm2 = confusion_matrix(Y_test, y_pred1)\n",
        "print(cm2)\n",
        "accuracy= accuracy_score(Y_test, y_pred1)\n",
        "precision = precision_score(Y_test, y_pred1)\n",
        "recall= recall_score(Y_test, y_pred1)\n",
        "error_score = metrics.r2_score(Y_test, y_pred1)\n",
        "print('Accuracy on testing data : ', accuracy)\n",
        "print('Precision on testing data : ', precision)\n",
        "print('Recall on testing : ', recall)\n",
        "print(\"R squared Error is : \", error_score)\n",
        "\n"
      ],
      "metadata": {
        "colab": {
          "base_uri": "https://localhost:8080/"
        },
        "id": "1e-V9LLlqcR7",
        "outputId": "ea7a3048-5b8f-4720-cc3f-4f41aa7cc815"
      },
      "execution_count": 17,
      "outputs": [
        {
          "output_type": "stream",
          "name": "stdout",
          "text": [
            "[[405  88]\n",
            " [ 63 444]]\n",
            "Accuracy on testing data :  0.849\n",
            "Precision on testing data :  0.8345864661654135\n",
            "Recall on testing :  0.8757396449704142\n",
            "R squared Error is :  0.39588159279218726\n"
          ]
        }
      ]
    },
    {
      "cell_type": "code",
      "source": [
        "#manually writining a review\n",
        "input_review = [\"Waste of Money\"]\n",
        "# convert text to feature vectors similar to what we did earlier.\n",
        "input_data_features = feature_extraction.transform(input_review)\n",
        "# making prediction\n",
        "prediction = model.predict(input_data_features)\n",
        "if (prediction[0]==1):\n",
        "  print('Positive')\n",
        "elif (prediction[0]==0):\n",
        "  print('Negative')"
      ],
      "metadata": {
        "colab": {
          "base_uri": "https://localhost:8080/"
        },
        "id": "eMgUSI_Wqg7r",
        "outputId": "cf7f5573-5e56-4dcb-d18e-df4893d2f5e6"
      },
      "execution_count": 21,
      "outputs": [
        {
          "output_type": "stream",
          "name": "stdout",
          "text": [
            "Negative\n"
          ]
        }
      ]
    }
  ]
}